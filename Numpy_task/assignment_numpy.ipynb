{
 "cells": [
  {
   "cell_type": "markdown",
   "id": "85cd97e3",
   "metadata": {},
   "source": []
  },
  {
   "cell_type": "markdown",
   "id": "d3df79dd",
   "metadata": {},
   "source": [
    "## Упражнения по библиотеке Numpy"
   ]
  },
  {
   "cell_type": "code",
   "execution_count": null,
   "id": "76b9c43b",
   "metadata": {},
   "outputs": [],
   "source": [
    "import numpy as np"
   ]
  },
  {
   "cell_type": "markdown",
   "id": "03727b7c",
   "metadata": {},
   "source": [
    "**1.** Дан случайный массив, поменять знак у элементов, значения которых между 3 и 8"
   ]
  },
  {
   "cell_type": "code",
   "execution_count": null,
   "id": "b89a7523",
   "metadata": {},
   "outputs": [],
   "source": [
    "# your code\n",
    "#В условии не указан диапазон случайных значений и размернсть массива. И есть ли способ сделать размерность массива случайной?\n",
    "arr = np.random.randint(0, 10, size=(4, 4))\n",
    "print(arr)\n",
    "arr[(arr > 3) & (arr < 8)] *= -1\n",
    "print(arr)"
   ]
  },
  {
   "cell_type": "markdown",
   "id": "5fa4abda",
   "metadata": {},
   "source": [
    "**2.** Заменить максимальный элемент случайного массива на 0"
   ]
  },
  {
   "cell_type": "code",
   "execution_count": null,
   "id": "f2788a6e",
   "metadata": {},
   "outputs": [],
   "source": [
    "# your code\n",
    "#Снова не указан размер массива, если бы это был вектор легче было бы использовать np.argmax(arr):\n",
    "arr = np.random.randint(1, 1000, size = 10)\n",
    "print(arr)\n",
    "arr[np.argmax(arr)] = 0\n",
    "print(arr)"
   ]
  },
  {
   "cell_type": "markdown",
   "id": "3cac656b",
   "metadata": {},
   "source": [
    "**3.** Построить прямое произведение массивов (все комбинации с каждым элементом). На вход подается двумерный массив\n",
    "\n"
   ]
  },
  {
   "cell_type": "code",
   "execution_count": null,
   "id": "3396b764",
   "metadata": {},
   "outputs": [],
   "source": [
    "# Нужно вычислить декартово произведение строк двумерного массива? На вход по условию передается один массив\n",
    "def cartesian_product_2d(input_2d):\n",
    "    \n",
    "    arrays = [input_2d[i] for i in range(input_2d.shape[0])]\n",
    "    \n",
    "    \n",
    "    \n",
    "    grids = np.meshgrid(*arrays, indexing='ij')\n",
    "    result = np.stack([g.ravel() for g in grids], axis=1)\n",
    "    \n",
    "    return result\n",
    "\n",
    "\n",
    "input_2d = np.array([[1, 2, 3],\n",
    "                     [4, 5],      \n",
    "                     [6, 7]], dtype=object)\n",
    "\n",
    "result = cartesian_product_2d(input_2d)\n",
    "print(\"Декартово произведение строк:\")\n",
    "print(result)"
   ]
  },
  {
   "cell_type": "markdown",
   "id": "674c9354",
   "metadata": {},
   "source": [
    "**4.** Даны 2 массива A (8x3) и B (2x2). Найти строки в A, которые содержат элементы из каждой строки в B, независимо от порядка элементов в B"
   ]
  },
  {
   "cell_type": "code",
   "execution_count": null,
   "id": "cb664782",
   "metadata": {},
   "outputs": [],
   "source": [
    "#Правильно ли я поняла что !одна любая! строка матрицы В должна быть подмножеством строки в матрице А. \n",
    "#Или нужно сделать так, чтобы строка А содержала хотя бы по одному элементу из каждой строки B?\n",
    "\n",
    "import numpy as np\n",
    "\n",
    "A = np.array([\n",
    "    [1, 2, 3],\n",
    "    [4, 5, 6],\n",
    "    [2, 3, 4],\n",
    "    [6, 7, 8],\n",
    "    [1, 4, 5],\n",
    "    [2, 5, 6],\n",
    "    [3, 6, 7],\n",
    "    [4, 7, 8]\n",
    "])\n",
    "\n",
    "B = np.array([\n",
    "    [2, 3],\n",
    "    [5, 6]\n",
    "])\n",
    "\n",
    "result = []\n",
    "for i, row in enumerate(A, start=1):\n",
    "    if any(set(b_row).issubset(set(row)) for b_row in B):\n",
    "        result.append((i, row))   \n",
    "\n",
    "print(\"Подходящие строки A:\")\n",
    "for idx, r in result:\n",
    "    print(f\"A{idx} = {r}\")\n",
    "\n"
   ]
  },
  {
   "cell_type": "markdown",
   "id": "fa46533b",
   "metadata": {},
   "source": [
    "**5.** Дана 10x3 матрица, найти строки из неравных значений (например строка [2,2,3] остается, строка [3,3,3] удаляется)"
   ]
  },
  {
   "cell_type": "code",
   "execution_count": null,
   "id": "fa545b23",
   "metadata": {},
   "outputs": [],
   "source": [
    "import numpy as np\n",
    "\n",
    "A = np.array([\n",
    "    [1, 2, 3],\n",
    "    [3, 3, 3],\n",
    "    [2, 2, 3],\n",
    "    [4, 5, 4],\n",
    "    [7, 7, 7],\n",
    "    [1, 1, 2],\n",
    "    [6, 6, 8],\n",
    "    [9, 8, 7],\n",
    "    [5, 5, 5],\n",
    "    [2, 3, 2]\n",
    "])\n",
    "\n",
    "\n",
    "result = np.array([row for row in A if len(set(row)) > 1])\n",
    "\n",
    "print(\"Результат:\")\n",
    "print(result)\n"
   ]
  },
  {
   "cell_type": "markdown",
   "id": "28f0d116",
   "metadata": {},
   "source": [
    "**6.** Дан двумерный массив. Удалить те строки, которые повторяются"
   ]
  },
  {
   "cell_type": "code",
   "execution_count": null,
   "id": "83d2c0b7",
   "metadata": {},
   "outputs": [],
   "source": [
    "import numpy as np\n",
    "\n",
    "A = np.array([\n",
    "    [1, 2, 3],\n",
    "    [4, 5, 6],\n",
    "    [1, 2, 3],\n",
    "    [7, 8, 9],\n",
    "    [4, 5, 6],\n",
    "    [2, 2, 3]\n",
    "])\n",
    "\n",
    "\n",
    "result = np.unique(A, axis=0)\n",
    "\n",
    "print(\"Результат:\")\n",
    "print(result)\n"
   ]
  },
  {
   "cell_type": "markdown",
   "id": "6daa9e37",
   "metadata": {},
   "source": [
    "______\n",
    "______"
   ]
  },
  {
   "cell_type": "markdown",
   "id": "cfbfcaff",
   "metadata": {},
   "source": [
    "Для каждой из следующих задач (1-5) нужно привести 2 реализации – одна без использования numpy (cчитайте, что там, где на входе или выходе должны быть numpy array, будут просто списки), а вторая полностью векторизованная с использованием numpy (без использования питоновских циклов/map/list comprehension).\n",
    "\n",
    "\n",
    "__Замечание 1.__ Можно считать, что все указанные объекты непустые (к примеру, в __задаче 1__ на диагонали матрицы есть ненулевые элементы).\n",
    "\n",
    "__Замечание 2.__ Для большинства задач решение занимает не больше 1-2 строк."
   ]
  },
  {
   "cell_type": "markdown",
   "id": "673cac7f",
   "metadata": {},
   "source": [
    "___"
   ]
  },
  {
   "cell_type": "markdown",
   "id": "ca6f585e",
   "metadata": {},
   "source": [
    "* __Задача 1__: Подсчитать произведение ненулевых элементов на диагонали прямоугольной матрицы.  \n",
    " Например, для X = np.array([[1, 0, 1], [2, 0, 2], [3, 0, 3], [4, 4, 4]]) ответ 3."
   ]
  },
  {
   "cell_type": "code",
   "execution_count": null,
   "id": "065862fc",
   "metadata": {},
   "outputs": [],
   "source": [
    "def diagonal_product_compact(arr):\n",
    "    diagonal = np.diag(arr)\n",
    "    non_zero = diagonal[diagonal != 0]\n",
    "    return np.prod(non_zero) \n",
    "X = np.array([[1, 0, 1], [2, 0, 2], [3, 0, 3], [4, 4, 4]])\n",
    "print(diagonal_product_compact(X))\n"
   ]
  },
  {
   "cell_type": "code",
   "execution_count": null,
   "id": "14dd3612",
   "metadata": {},
   "outputs": [],
   "source": [
    "def prod_nonzero_diag_py(X):\n",
    "    diag = [X[i][i] for i in range(min(len(X), len(X[0])))]\n",
    "    prod = 1\n",
    "    has_nonzero = False\n",
    "    for v in diag:\n",
    "        if v != 0:\n",
    "            prod *= v\n",
    "            has_nonzero = True\n",
    "    return prod if has_nonzero else 0\n",
    "X = np.array([[1, 0, 1], [2, 0, 2], [3, 0, 3], [4, 4, 4]])\n",
    "print(prod_nonzero_diag_py(X))"
   ]
  },
  {
   "cell_type": "markdown",
   "id": "9fc51d41",
   "metadata": {},
   "source": [
    "* __Задача 2__: Даны два вектора x и y. Проверить, задают ли они одно и то же мультимножество.  \n",
    "  Например, для x = np.array([1, 2, 2, 4]), y = np.array([4, 2, 1, 2]) ответ True."
   ]
  },
  {
   "cell_type": "code",
   "execution_count": null,
   "id": "a809e02f",
   "metadata": {},
   "outputs": [],
   "source": [
    "def same_multiset_sort(x, y):\n",
    "    x = np.asarray(x)\n",
    "    y = np.asarray(y)\n",
    "    if x.size != y.size:\n",
    "        return False\n",
    "    return np.array_equal(np.sort(x), np.sort(y), equal_nan=True)\n",
    "\n",
    "\n",
    "x = np.array([1, 2, 2, 4])\n",
    "y = np.array([4, 2, 9, 2])\n",
    "print(same_multiset_sort(x, y))  \n",
    "\n"
   ]
  },
  {
   "cell_type": "code",
   "execution_count": null,
   "id": "6748d441",
   "metadata": {},
   "outputs": [],
   "source": [
    "def same_multiset_py(x, y):\n",
    "    from collections import Counter\n",
    "    return Counter(x) == Counter(y)\n",
    "x = np.array([1, 2, 2, 4])\n",
    "y = np.array([4, 2, 9, 2])\n",
    "print(same_multiset_py(x, y)) "
   ]
  },
  {
   "cell_type": "markdown",
   "id": "b9c185c7",
   "metadata": {},
   "source": [
    "* __Задача 3__: Найти максимальный элемент в векторе x среди элементов, перед которыми стоит ноль. \n",
    " Например, для x = np.array([6, 2, 0, 3, 0, 0, 5, 7, 0]) ответ 5."
   ]
  },
  {
   "cell_type": "code",
   "execution_count": null,
   "id": "b57df008",
   "metadata": {},
   "outputs": [],
   "source": [
    "x = np.array([6, 2, 0, 3, 0, 0, 5, 7, 0])\n",
    "indices = np.where(x[:-1] == 0)[0] + 1\n",
    "candidates = x[indices]\n",
    "result = candidates.max() if candidates.size > 0 else None\n",
    "print(result)\n"
   ]
  },
  {
   "cell_type": "code",
   "execution_count": null,
   "id": "fbf1d40e",
   "metadata": {},
   "outputs": [],
   "source": [
    "def max_after_zero_py(x):\n",
    "    candidates = [x[i] for i in range(1, len(x)) if x[i-1] == 0]\n",
    "    return max(candidates) if candidates else None\n",
    "x = np.array([6, 2, 0, 3, 0, 0, 5, 7, 0])\n",
    "print(max_after_zero_py(x))"
   ]
  },
  {
   "cell_type": "markdown",
   "id": "480be4ce",
   "metadata": {},
   "source": [
    "* __Задача 4__: Реализовать кодирование длин серий (Run-length encoding). Для некоторого вектора x необходимо вернуть кортеж из двух векторов одинаковой длины. Первый содержит числа, а второй - сколько раз их нужно повторить.  \n",
    " Например, для x = np.array([2, 2, 2, 3, 3, 3, 5]) ответ (np.array([2, 3, 5]), np.array([3, 3, 1]))."
   ]
  },
  {
   "cell_type": "code",
   "execution_count": null,
   "id": "3c592124",
   "metadata": {},
   "outputs": [],
   "source": [
    "# Впервые встретила такую задачу и понятие Run-length encoding\n",
    "def run_length_encoding(x):\n",
    "    x = np.asarray(x)\n",
    "    if x.size == 0:\n",
    "        return np.array([]), np.array([])\n",
    "\n",
    "\n",
    "    change_indices = np.where(np.diff(x) != 0)[0] + 1\n",
    "    values = np.split(x, change_indices)\n",
    "    elements = np.array([block[0] for block in values])\n",
    "\n",
    "    \n",
    "    counts = np.array([len(block) for block in values])\n",
    "\n",
    "    return elements, counts\n",
    "\n",
    "\n",
    "x = np.array([2, 2, 2, 3, 3, 3, 5])\n",
    "values, counts = run_length_encoding(x)\n",
    "\n",
    "print(values)  # [2 3 5]\n",
    "print(counts)  # [3 3 1]\n"
   ]
  },
  {
   "cell_type": "code",
   "execution_count": null,
   "id": "50043698",
   "metadata": {},
   "outputs": [],
   "source": [
    "def rle_py(x):\n",
    "    if not x:\n",
    "        return [], []\n",
    "    values = [x[0]]\n",
    "    counts = [1]\n",
    "    for v in x[1:]:\n",
    "        if v == values[-1]:\n",
    "            counts[-1] += 1\n",
    "        else:\n",
    "            values.append(v)\n",
    "            counts.append(1)\n",
    "    return values, counts\n",
    "\n",
    "\n",
    "x = [2, 2, 2, 3, 3, 3, 5]\n",
    "print(rle_py(x))  \n",
    "\n"
   ]
  },
  {
   "cell_type": "markdown",
   "id": "077532ec",
   "metadata": {},
   "source": [
    "* __Задача 5__: Даны две выборки объектов - X и Y. Вычислить матрицу евклидовых расстояний между объектами. Сравните с функцией scipy.spatial.distance.cdist по скорости работы."
   ]
  },
  {
   "cell_type": "code",
   "execution_count": null,
   "id": "1e807797",
   "metadata": {},
   "outputs": [],
   "source": [
    "\n",
    "def euclidean_distances_np(X, Y):\n",
    "    X = np.array(X, dtype=float)  \n",
    "    Y = np.array(Y, dtype=float)\n",
    "    \n",
    "    # ||X - Y||^2 = ||X||^2 + ||Y||^2 - 2 X·Y^T\n",
    "    X_sq = np.sum(X**2, axis=1)[:, np.newaxis]   \n",
    "    Y_sq = np.sum(Y**2, axis=1)[np.newaxis, :]   \n",
    "    XY = X @ Y.T                               \n",
    "    D_sq = X_sq + Y_sq - 2 * XY\n",
    "    D_sq = np.maximum(D_sq, 0.0)  \n",
    "    return np.sqrt(D_sq)\n",
    "\n",
    "X = [[1, 2], [3, 4], [5, 6]]\n",
    "Y = [[0, 0], [1, 1], [2, 2]]\n",
    "\n",
    "print(euclidean_distances_np(X, Y))\n",
    "\n",
    "\n"
   ]
  },
  {
   "cell_type": "code",
   "execution_count": null,
   "id": "e89b3833",
   "metadata": {},
   "outputs": [],
   "source": [
    "from scipy.spatial.distance import cdist\n",
    "import numpy as np\n",
    "\n",
    "import time\n",
    "\n",
    "def euclidean_distances_np(X, Y):\n",
    "    X = np.array(X, dtype=float)  \n",
    "    Y = np.array(Y, dtype=float)\n",
    "    \n",
    "    # ||X - Y||^2 = ||X||^2 + ||Y||^2 - 2 X·Y^T\n",
    "    X_sq = np.sum(X**2, axis=1)[:, np.newaxis]   \n",
    "    Y_sq = np.sum(Y**2, axis=1)[np.newaxis, :]   \n",
    "    XY = X @ Y.T                               \n",
    "    D_sq = X_sq + Y_sq - 2 * XY\n",
    "    D_sq = np.maximum(D_sq, 0.0)  \n",
    "    return np.sqrt(D_sq)\n",
    "\n",
    "\n",
    "# примеры данных\n",
    "np.random.seed(0)\n",
    "X = np.random.rand(1000, 50)  # 1000 объектов, 50 признаков\n",
    "Y = np.random.rand(800, 50)   # 800 объектов, 50 признаков\n",
    "\n",
    "# наша реализация\n",
    "t0 = time.time()\n",
    "D1 = euclidean_distances_np(X, Y)\n",
    "t1 = time.time()\n",
    "\n",
    "# scipy\n",
    "t2 = time.time()\n",
    "D2 = cdist(X, Y, metric=\"euclidean\")\n",
    "t3 = time.time()\n",
    "\n",
    "# проверка равенства результатов\n",
    "print(\"Разница:\", np.allclose(D1, D2))\n",
    "\n",
    "# замер времени\n",
    "print(\"Наша функция:\", t1 - t0, \"сек\")\n",
    "print(\"scipy cdist:\", t3 - t2, \"сек\")\n"
   ]
  },
  {
   "cell_type": "code",
   "execution_count": null,
   "id": "57e6b486",
   "metadata": {},
   "outputs": [],
   "source": [
    "def euclidean_distances_py(X, Y):\n",
    "    distances = []\n",
    "    for x in X:\n",
    "        row = []\n",
    "        for y in Y:\n",
    "            dist = sum((xi - yi)**2 for xi, yi in zip(x, y))**0.5\n",
    "            row.append(dist)\n",
    "        distances.append(row)\n",
    "    return distances\n",
    "\n",
    "X = [[1, 2], [3, 4], [5, 6]]\n",
    "Y = [[0, 0], [1, 1], [2, 2]]\n",
    "dist_py = euclidean_distances_py(X, Y)\n",
    "for row in dist_py:\n",
    "    print(row)"
   ]
  },
  {
   "cell_type": "markdown",
   "id": "973e8064",
   "metadata": {},
   "source": [
    "_______\n",
    "________"
   ]
  },
  {
   "cell_type": "markdown",
   "id": "1104acb7",
   "metadata": {},
   "source": [
    "* #### __Задача 6__: CrunchieMunchies __*__\n",
    "\n",
    "Вы работаете в отделе маркетинга пищевой компании MyCrunch, которая разрабатывает новый вид вкусных, полезных злаков под названием **CrunchieMunchies**.\n",
    "\n",
    "Вы хотите продемонстрировать потребителям, насколько полезны ваши хлопья по сравнению с другими ведущими брендами, поэтому вы собрали данные о питании нескольких разных конкурентов.\n",
    "\n",
    "Ваша задача - использовать вычисления Numpy для анализа этих данных и доказать, что ваши **СrunchieMunchies** - самый здоровый выбор для потребителей.\n"
   ]
  },
  {
   "cell_type": "code",
   "execution_count": null,
   "id": "10a77f8d",
   "metadata": {},
   "outputs": [],
   "source": [
    "import numpy as np"
   ]
  },
  {
   "cell_type": "markdown",
   "id": "ab87cb03",
   "metadata": {},
   "source": [
    "1. Просмотрите файл cereal.csv. Этот файл содержит количества калорий для различных марок хлопьев. Загрузите данные из файла и сохраните их как calorie_stats."
   ]
  },
  {
   "cell_type": "code",
   "execution_count": null,
   "id": "9681ebf2",
   "metadata": {},
   "outputs": [],
   "source": [
    "calorie_stats = np.loadtxt(\"./cereal.csv\", delimiter=\",\")\n",
    "print(calorie_stats[:])   \n",
    "print(\"Размер:\", *calorie_stats.shape)\n"
   ]
  },
  {
   "cell_type": "markdown",
   "id": "139cfbd8",
   "metadata": {},
   "source": [
    "2. В одной порции CrunchieMunchies содержится 60 калорий. Насколько выше среднее количество калорий у ваших конкурентов?\n",
    "\n",
    "Сохраните ответ в переменной average_calories и распечатайте переменную в терминале"
   ]
  },
  {
   "cell_type": "code",
   "execution_count": null,
   "id": "7036d240",
   "metadata": {},
   "outputs": [],
   "source": [
    "\n",
    "mean_competitor_calories = np.mean(calorie_stats )\n",
    "\n",
    "average_calories = mean_competitor_calories - 60\n",
    "\n",
    "print(average_calories)"
   ]
  },
  {
   "cell_type": "markdown",
   "id": "b2ddb4cd",
   "metadata": {},
   "source": [
    "3. Корректно ли среднее количество калорий отражает распределение набора данных? Давайте отсортируем данные и посмотрим.\n",
    "\n",
    "Отсортируйте данные и сохраните результат в переменной calorie_stats_sorted. Распечатайте отсортированную информацию"
   ]
  },
  {
   "cell_type": "code",
   "execution_count": null,
   "id": "46eeb4ed",
   "metadata": {},
   "outputs": [],
   "source": [
    "\n",
    "calorie_stats_sorted = np.sort(calorie_stats)\n",
    "\n",
    "print(calorie_stats_sorted)\n"
   ]
  },
  {
   "cell_type": "markdown",
   "id": "4dc74116",
   "metadata": {},
   "source": [
    "4. Похоже, что большинство значений выше среднего. Давайте посмотрим, является ли медиана наиболее корректным показателем набора данных.\n",
    "\n",
    "Вычислите медиану набора данных и сохраните свой ответ в median_calories. Выведите медиану, чтобы вы могли видеть, как она сравнивается со средним значением."
   ]
  },
  {
   "cell_type": "code",
   "execution_count": null,
   "id": "b56627c3",
   "metadata": {},
   "outputs": [],
   "source": [
    "median_calories =  np.median(calorie_stats_sorted)\n",
    "print(median_calories)\n"
   ]
  },
  {
   "cell_type": "markdown",
   "id": "a63ab72f",
   "metadata": {},
   "source": [
    "5. В то время как медиана показывает, что по крайней мере половина наших значений составляет более 100 калорий, было бы более впечатляюще показать, что значительная часть конкурентов имеет более высокое количество калорий, чем CrunchieMunchies.\n",
    "\n",
    "Рассчитайте различные процентили и распечатайте их, пока не найдете наименьший процентиль, превышающий 60 калорий. Сохраните это значение в переменной nth_percentile."
   ]
  },
  {
   "cell_type": "code",
   "execution_count": null,
   "id": "fe80ce03",
   "metadata": {},
   "outputs": [],
   "source": [
    "for p in range(1, 101):\n",
    "    percentile_value = np.percentile(calorie_stats, p)\n",
    "    if percentile_value > 60:\n",
    "        nth_percentile = p\n",
    "        break\n",
    "\n",
    "\n",
    "print(nth_percentile)\n"
   ]
  },
  {
   "cell_type": "markdown",
   "id": "a2a3c5aa",
   "metadata": {},
   "source": [
    "6. Хотя процентиль показывает нам, что у большинства конкурентов количество калорий намного выше, это неудобная концепция для использования в маркетинговых материалах.\n",
    "\n",
    "Вместо этого давайте подсчитаем процент хлопьев, в которых содержится более 60 калорий на порцию. Сохраните свой ответ в переменной more_calories и распечатайте его"
   ]
  },
  {
   "cell_type": "code",
   "execution_count": null,
   "id": "ade0f6ea",
   "metadata": {},
   "outputs": [],
   "source": [
    "more_calories = np.sum(calorie_stats > 60) / len(calorie_stats) * 100  \n",
    "print(more_calories) "
   ]
  },
  {
   "cell_type": "markdown",
   "id": "1735d65b",
   "metadata": {},
   "source": [
    "7. Это действительно высокий процент. Это будет очень полезно, когда мы будем продвигать CrunchieMunchies. Но один вопрос заключается в том, насколько велики различия в наборе данных? Можем ли мы сделать обобщение, что в большинстве злаков содержится около 100 калорий или разброс еще больше?\n",
    "\n",
    "Рассчитайте величину отклонения, найдя стандартное отклонение, Сохраните свой ответ в calorie_std и распечатайте на терминале. Как мы можем включить эту ценность в наш анализ?"
   ]
  },
  {
   "cell_type": "code",
   "execution_count": null,
   "id": "74e977f2",
   "metadata": {},
   "outputs": [],
   "source": [
    "calorie_std = np.std(calorie_stats)\n",
    "print(calorie_std)"
   ]
  },
  {
   "cell_type": "markdown",
   "id": "037455c5",
   "metadata": {},
   "source": [
    "8. Напишите короткий абзац, в котором кратко изложите свои выводы и то, как, по вашему мнению, эти данные могут быть использованы в интересах Mycrunch при маркетинге CrunchieMunchies."
   ]
  },
  {
   "cell_type": "markdown",
   "id": "87815742",
   "metadata": {},
   "source": [
    "Данные полезны для позиционирования CrunchieMunchies как низкокалорийного диетического продукта.\n",
    "CrunchieMunchies действительно легче 96% конкурентов. Среднее и стандартное отклонение показывают, что калорийность большинства злаков крутится в районе 100 калорий,а процентили дополнительно подтверждают, что 60 калорий — исключение на рынке, а не правило.\n",
    "Демонстрация реальных расчетов делает утверждение более объективным: это не просто рекламный лозунг, а подтверждённый цифрами вывод.\n",
    "Все расчеты выше можно красиво визуализировать в том же Tableau."
   ]
  },
  {
   "cell_type": "markdown",
   "id": "dcfb1097",
   "metadata": {},
   "source": []
  }
 ],
 "metadata": {
  "kernelspec": {
   "display_name": "Python 3",
   "language": "python",
   "name": "python3"
  },
  "language_info": {
   "codemirror_mode": {
    "name": "ipython",
    "version": 3
   },
   "file_extension": ".py",
   "mimetype": "text/x-python",
   "name": "python",
   "nbconvert_exporter": "python",
   "pygments_lexer": "ipython3",
   "version": "3.13.1"
  }
 },
 "nbformat": 4,
 "nbformat_minor": 5
}
